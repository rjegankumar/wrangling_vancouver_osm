{
 "cells": [
  {
   "cell_type": "markdown",
   "metadata": {},
   "source": [
    "# Wrangling Vancouver OpenStreetMap"
   ]
  },
  {
   "cell_type": "markdown",
   "metadata": {},
   "source": [
    "*Map area chosen - [Vancouver, British Columbia, Canada](https://www.openstreetmap.org/export#map=12/49.2576/-123.1241)*\n",
    "\n",
    "I've been thinking about visiting Vancouver for a while. It's a beautiful city and has been consistently rated as one of the best places to live in. Exploring, wrangling and analyzing Vancouver's OpenStreetMap (OSM) data would be a good way for me to get to know the city better."
   ]
  },
  {
   "cell_type": "markdown",
   "metadata": {},
   "source": [
    "I used the MongoDB NoSQL database instead of SQL for storing and analyzing the cleaned data as I have quite a bit of experience working with SQL databases, and I wanted to test my new MongoDB skills that I acquired through the Udacity course."
   ]
  },
  {
   "cell_type": "markdown",
   "metadata": {},
   "source": [
    "## Acquiring and Preparing the Data"
   ]
  },
  {
   "cell_type": "markdown",
   "metadata": {},
   "source": [
    "I used the [Overpass API](http://overpass-api.de/query_form.html) form to download a square area of xml data that covered almost all of Vancouver city. The uncompressed file size was 246.7 MB."
   ]
  },
  {
   "cell_type": "markdown",
   "metadata": {},
   "source": [
    "Given how large the original file was, in order to facilitate faster processing of data during exploration, cleanup and analysis, I created two smaller xml datasets. One represeting 1%, and the other 10% of the entire dataset. This helped speed up the overall data processing, especially with respect to testing and debugging the code."
   ]
  },
  {
   "cell_type": "markdown",
   "metadata": {},
   "source": [
    "To better understand the OSM xml data structure, I read through the general background and introductory information available on the [OSM Wiki](http://wiki.openstreetmap.org/)."
   ]
  },
  {
   "cell_type": "markdown",
   "metadata": {},
   "source": [
    "## Data Exploration"
   ]
  },
  {
   "cell_type": "markdown",
   "metadata": {},
   "source": [
    "First, I determined how many of the different tags were present in the entire dataset:\n",
    "\n",
    "    All tags:\n",
    "\n",
    "    {'member': 22031,\n",
    "     'meta': 1,\n",
    "     'nd': 1334436,\n",
    "     'node': 1077939,\n",
    "     'note': 1,\n",
    "     'osm': 1,\n",
    "     'relation': 2385,\n",
    "     'tag': 357077,\n",
    "     'way': 189196}"
   ]
  },
  {
   "cell_type": "markdown",
   "metadata": {},
   "source": [
    "Then, I displayed examples of all OSM xml elements to get a feel for how the data is structured in this particular dataset. A node element example:\n",
    "\n",
    "    <node changeset=\"6532773\" id=\"25250640\" lat=\"49.2028485\" lon=\"-122.9483348\" timestamp=\"2010-12-03T23:19:25Z\" uid=\"355617\" user=\"pnorman\" version=\"17\">\n",
    "        <tag k=\"highway\" v=\"traffic_signals\" />\n",
    "      </node>"
   ]
  },
  {
   "cell_type": "markdown",
   "metadata": {},
   "source": [
    "Next, I explored the attributes and tags of two main elements - node and way. Output below:\n",
    "\n",
    "    Attributes and tags of node and way elements:\n",
    "\n",
    "    {'node_attr': {'changeset': 1077939,\n",
    "                   'id': 1077939,\n",
    "                   'lat': 1077939,\n",
    "                   'lon': 1077939,\n",
    "                   'timestamp': 1077939,\n",
    "                   'uid': 1077939,\n",
    "                   'user': 1077939,\n",
    "                   'version': 1077939},\n",
    "     'way_attr': {'changeset': 189196,\n",
    "                  'id': 189196,\n",
    "                  'timestamp': 189196,\n",
    "                  'uid': 189196,\n",
    "                  'user': 189196,\n",
    "                  'version': 189196}}\n",
    "\n",
    "    {'node_tag': {'tag': 47048}, 'way_tag': {'nd': 1334436, 'tag': 303477}}"
   ]
  },
  {
   "cell_type": "markdown",
   "metadata": {},
   "source": [
    "Curious to know what the top tag keys were, I wrote a code to display the most frequently occuring keys and their values selected at random, which yielded:\n",
    "\n",
    "    ['building',\n",
    "     'highway',\n",
    "     'name',\n",
    "     'addr:housenumber',\n",
    "     'addr:street',\n",
    "     'source',\n",
    "     'lanes',\n",
    "     'amenity',\n",
    "     'oneway',\n",
    "     'is_in']\n",
    "     \n",
    "    'building' values in element:\n",
    "\n",
    "    ['yes', 'house', 'yes', 'yes', 'yes']\n",
    "\n",
    "    'highway' values in element:\n",
    "\n",
    "    ['footway', 'bus_stop', 'service', 'service', 'steps']\n",
    "\n",
    "    'name' values in element:\n",
    "\n",
    "    ['Sussex Avenue', 'Delano Pizza', 'Freedom', 'Bay 5', 'West 17th Street']\n",
    "\n",
    "    'addr:housenumber' values in element:\n",
    "\n",
    "    ['236', '331', '313', '1652', '422']\n",
    "\n",
    "    'addr:street' values in element:\n",
    "\n",
    "    ['Sutherland Avenue',\n",
    "     'Marine Drive',\n",
    "     'East Keith Road',\n",
    "     'East 7th Street',\n",
    "     'East 12th Street']\n",
    "\n",
    "    'source' values in element:\n",
    "\n",
    "    ['Geobase_Import_2009',\n",
    "     'PGS',\n",
    "     'Geobase_Import_2009',\n",
    "     'Geobase_Import_2009',\n",
    "     'GeobaseNHN_Import_2009']\n",
    "\n",
    "    'lanes' values in element:\n",
    "\n",
    "    ['2', '1', '1', '2', '1']\n",
    "\n",
    "    'amenity' values in element:\n",
    "\n",
    "    ['parking', 'restaurant', 'drinking_water', 'parking', 'parking']\n",
    "\n",
    "    'oneway' values in element:\n",
    "\n",
    "    ['yes', 'yes', 'yes', 'no', 'no']\n",
    "\n",
    "    'is_in' values in element:\n",
    "\n",
    "    ['Vancouver, BC',\n",
    "     'Vancouver,British Columbia',\n",
    "     'Vancouver, BC',\n",
    "     'Vancouver,British Columbia',\n",
    "     'New Westminster,British Columbia']"
   ]
  },
  {
   "cell_type": "markdown",
   "metadata": {},
   "source": [
    "## Problems Encountered"
   ]
  },
  {
   "cell_type": "markdown",
   "metadata": {},
   "source": [
    "First, I audited the keys so that it can be properly processed or converted to a structure that is compatible with the MongoDB database. There were quite a few keys that did not meet the standard criteria of all letters being lowercase, no colons and other special characters with the exception of underscore. These outliers either had capital letters, one or more colons, or other undesirable characters. All of these problematic keys needed to be fixed.\n",
    "\n",
    "    tag key types with counts:\n",
    "\n",
    "    {'caps': 59,\n",
    "     'lower_num': 313920,\n",
    "     'lower_num_colon': 39066,\n",
    "     'lower_num_one_colon_all_caps': 17,\n",
    "     'lower_num_one_colon_caps': 4002,\n",
    "     'lower_num_one_colon_multi_caps': 2,\n",
    "     'others': 0,\n",
    "     'problemchars': 11}"
   ]
  },
  {
   "cell_type": "markdown",
   "metadata": {},
   "source": [
    "Second, the street types were audited. I found a lot of abbreviations used that needed to be standardized, like - St, Ave, Dr etc."
   ]
  },
  {
   "cell_type": "markdown",
   "metadata": {},
   "source": [
    "Next, I checked for the phone number formatting to ensure it meets the recommendation from the [Translation Bureau](http://www.btb.termiumplus.gc.ca/tpv2guides/guides/wrtps/index-eng.html?lang=eng&lettr=indx_catlog_t&page=9W7A26eVMyvE.html) - NNN-NNN-NNNN. I encountered quite a few different formats that needed cleaning up like - +1 NNN-NNN-NNNN, +1 NNN NNN NNNN, NNNNNNNNNN etc."
   ]
  },
  {
   "cell_type": "markdown",
   "metadata": {},
   "source": [
    "After reviewing the wikis for [Canada](https://en.wikipedia.org/wiki/Postal_codes_in_Canada) and [British Columbia](https://en.wikipedia.org/wiki/List_of_V_postal_codes_of_Canada) postal codes, I set out to audit the postal codes in the data set for non-conformance. There were quite a few postal codes that did not conform to the standard. Some of these had just numbers and no alphabets, some started with 'BC', and some with no space."
   ]
  },
  {
   "cell_type": "markdown",
   "metadata": {},
   "source": [
    "## Data Wrangling"
   ]
  },
  {
   "cell_type": "markdown",
   "metadata": {},
   "source": [
    "The next step that was completed was to address all the problems that surfaced while auditing the dataset as described in the previous step. Followed by conversion of the cleaned data to a JSON file, which can then be imported to MongoDB."
   ]
  },
  {
   "cell_type": "markdown",
   "metadata": {},
   "source": [
    "I created functions to clean up the keys, street names, phone numbers and postal codes. Also, the algorithm was tested and validated using the audit functions. This validated code was then used to wrangle the xml data and then convert the data to a JSON format to enable data import to MongoDB."
   ]
  },
  {
   "cell_type": "markdown",
   "metadata": {},
   "source": [
    "## Analyzing the data"
   ]
  },
  {
   "cell_type": "markdown",
   "metadata": {},
   "source": [
    "I ran a few queries to analyze the data and help answer some of the questions I was interested in."
   ]
  },
  {
   "cell_type": "markdown",
   "metadata": {},
   "source": [
    "What's the dataset size (no. of rows)?\n",
    "\n",
    "    > db.vancouverosm.count()\n",
    "    1267135"
   ]
  },
  {
   "cell_type": "markdown",
   "metadata": {},
   "source": [
    "What's the number of node and way elements in the dataset?\n",
    "\n",
    "    > db.vancouverosm.aggregate([{\"$group\":{\"_id\":\"$type\", \"count\":{\"$sum\":1}}},{\"$sort\":{\"_id\":1}}])\n",
    "    { \"_id\" : \"node\", \"count\" : 1077939 }\n",
    "    { \"_id\" : \"way\", \"count\" : 189196 }"
   ]
  },
  {
   "cell_type": "markdown",
   "metadata": {},
   "source": [
    "How many users have contributed to this OSM dataset?\n",
    "\n",
    "    > db.vancouverosm.distinct(\"created.user\").length\n",
    "    1006"
   ]
  },
  {
   "cell_type": "markdown",
   "metadata": {},
   "source": [
    "How many changes were made to the dataset each year? What was the trend of the no. of changes made over the past few years -\n",
    "\n",
    "    > db.vancouverosm.aggregate([{$group:{_id: {$substr: [\"$created.timestamp\", 0, 4]}, count: {$sum: 1}}}, {$sort: {\"_id\": 1}}])\n",
    "    { \"_id\" : \"2007\", \"count\" : 96 }\n",
    "    { \"_id\" : \"2008\", \"count\" : 2990 }\n",
    "    { \"_id\" : \"2009\", \"count\" : 13682 }\n",
    "    { \"_id\" : \"2010\", \"count\" : 51353 }\n",
    "    { \"_id\" : \"2011\", \"count\" : 69455 }\n",
    "    { \"_id\" : \"2012\", \"count\" : 92236 }\n",
    "    { \"_id\" : \"2013\", \"count\" : 12107 }\n",
    "    { \"_id\" : \"2014\", \"count\" : 94953 }\n",
    "    { \"_id\" : \"2015\", \"count\" : 623976 }\n",
    "    { \"_id\" : \"2016\", \"count\" : 288582 }\n",
    "    { \"_id\" : \"2017\", \"count\" : 17705 }"
   ]
  },
  {
   "cell_type": "markdown",
   "metadata": {},
   "source": [
    "How many different cities were there in this OSM dataset?\n",
    "\n",
    "    > db.vancouverosm.aggregate([{$match: {\"address.city\": {\"$exists\": true}}},{$group: {_id: \"$address.city\", count: {$sum: 1}}}, {$sort: {\"_id\": 1}},{'$project':{'count':0}}])\n",
    "    { \"_id\" : \"Burnaby\" }\n",
    "    { \"_id\" : \"Burnaby, BC\" }\n",
    "    { \"_id\" : \"District of North Vancouver\" }\n",
    "    { \"_id\" : \"New Westminster\" }\n",
    "    { \"_id\" : \"North Vancouver\" }\n",
    "    { \"_id\" : \"North Vancouver City\" }\n",
    "    { \"_id\" : \"Richmond\" }\n",
    "    { \"_id\" : \"Richmond BC\" }\n",
    "    { \"_id\" : \"Richmond, B.C.\" }\n",
    "    { \"_id\" : \"Ricmond\" }\n",
    "    { \"_id\" : \"Township of Langley\" }\n",
    "    { \"_id\" : \"Vancouver\" }\n",
    "    { \"_id\" : \"Vancouver, BC\" }\n",
    "    { \"_id\" : \"Vancovuer\" }\n",
    "    { \"_id\" : \"West Vancouver\" }\n",
    "    { \"_id\" : \"north vancouver\" }\n",
    "    { \"_id\" : \"vancouver\" }"
   ]
  },
  {
   "cell_type": "markdown",
   "metadata": {},
   "source": [
    "What are the most common forwarding sortation areas (FSA)?\n",
    "\n",
    "    > db.vancouverosm.aggregate([{$match:{\"address.postcode\":{\"$exists\":true}}}, {$group:{_id: {$substr: [\"$address.postcode\", 0, 3]}, count: {$sum: 1}}}, {$sort: {count: -1}},{$limit: 10}])\n",
    "    { \"_id\" : \"V6M\", \"count\" : 72 } - Vancouver\n",
    "    { \"_id\" : \"V5R\", \"count\" : 67 } - Vancouver\n",
    "    { \"_id\" : \"V6B\", \"count\" : 61 } - Vancouver\n",
    "    { \"_id\" : \"V6A\", \"count\" : 55 } - Vancouver\n",
    "    { \"_id\" : \"V6S\", \"count\" : 47 } - Vancouver\n",
    "    { \"_id\" : \"V5Z\", \"count\" : 47 } - Vancouver\n",
    "    { \"_id\" : \"V5H\", \"count\" : 47 } - Burnaby\n",
    "    { \"_id\" : \"V5N\", \"count\" : 44 } - Vancouver\n",
    "    { \"_id\" : \"V6H\", \"count\" : 43 } - Vancouver\n",
    "    { \"_id\" : \"V6J\", \"count\" : 39 } - Vancouver"
   ]
  },
  {
   "cell_type": "markdown",
   "metadata": {},
   "source": [
    "How many apartments, houses, commercial buildings and university buildings were there in this dataset?\n",
    "\n",
    "    > db.vancouverosm.aggregate([{$match:{\"building.building\":{\"$exists\":true},\"building.building\":{\"$in\":[\"commercial\",\"apartments\",\"university\",\"house\"]}}}, {$group:{\"_id\":\"$building.building\",\"count\":{$sum:1}}},{$sort: {\"_id\": 1}}])\n",
    "    { \"_id\" : \"apartments\", \"count\" : 253 }\n",
    "    { \"_id\" : \"commercial\", \"count\" : 77 }\n",
    "    { \"_id\" : \"house\", \"count\" : 81 }\n",
    "    { \"_id\" : \"university\", \"count\" : 3 }\n",
    "    \n",
    "    > db.vancouverosm.aggregate([{$match:{\"building\":{\"$exists\":true, \"$type\":\"string\"},\"building\":{\"$in\":[\"commercial\",\"apartments\",\"university\",\"house\"]}}}, {$group:{\"_id\":\"$building\",\"count\":{$sum:1}}},{$sort: {\"_id\": 1}}])\n",
    "    { \"_id\" : \"apartments\", \"count\" : 1277 }\n",
    "    { \"_id\" : \"commercial\", \"count\" : 297 }\n",
    "    { \"_id\" : \"house\", \"count\" : 6863 }\n",
    "    { \"_id\" : \"university\", \"count\" : 2 }"
   ]
  },
  {
   "cell_type": "markdown",
   "metadata": {},
   "source": [
    "Counts of some interesting places, shops, amenities -\n",
    "\n",
    "    > db.vancouverosm.aggregate([{\"$match\":{\"amenity\":{\"$exists\":1},\"amenity\":{\"$in\":[\"bar\",\"cafe\",\"cinema\",\"fountain\",\"restaurant\",\"theatre\"]}}},{\"$group\":{\"_id\":\"$amenity\", \"count\":{\"$sum\":1}}},{\"$sort\":{\"_id\":1}}])\n",
    "    { \"_id\" : \"bar\", \"count\" : 101 }\n",
    "    { \"_id\" : \"cafe\", \"count\" : 473 }\n",
    "    { \"_id\" : \"cinema\", \"count\" : 13 }\n",
    "    { \"_id\" : \"fountain\", \"count\" : 37 }\n",
    "    { \"_id\" : \"restaurant\", \"count\" : 937 }\n",
    "    { \"_id\" : \"theatre\", \"count\" : 31 }\n",
    "    \n",
    "    > db.vancouverosm.aggregate([{\"$match\":{\"shop\":{\"$exists\":1},\"shop\":{\"$in\":[\"art\",\"books\",\"deli\",\"music\",\"outdoor\",\"tea\"]}}},{\"$group\":{\"_id\":\"$shop\", \"count\":{\"$sum\":1}}},{\"$sort\":{\"_id\":1}}])\n",
    "    { \"_id\" : \"art\", \"count\" : 44 }\n",
    "    { \"_id\" : \"books\", \"count\" : 31 }\n",
    "    { \"_id\" : \"deli\", \"count\" : 15 }\n",
    "    { \"_id\" : \"music\", \"count\" : 8 }\n",
    "    { \"_id\" : \"outdoor\", \"count\" : 12 }\n",
    "    { \"_id\" : \"tea\", \"count\" : 12 }\n",
    "    \n",
    "    > db.vancouverosm.aggregate([{\"$match\":{\"tourism\":{\"$exists\":1},\"tourism\":{\"$in\":[\"artwork\",\"attraction\",\"gallery\",\"hostel\",\"hotel\",\"motel\",\"museum\",\"picnic_site\",\"viewpoint\"]}}},{\"$group\":{\"_id\":\"$tourism\", \"count\":{\"$sum\":1}}},{\"$sort\":{\"_id\":1}}])\n",
    "    { \"_id\" : \"artwork\", \"count\" : 71 }\n",
    "    { \"_id\" : \"attraction\", \"count\" : 34 }\n",
    "    { \"_id\" : \"gallery\", \"count\" : 6 }\n",
    "    { \"_id\" : \"hostel\", \"count\" : 16 }\n",
    "    { \"_id\" : \"hotel\", \"count\" : 93 }\n",
    "    { \"_id\" : \"motel\", \"count\" : 14 }\n",
    "    { \"_id\" : \"museum\", \"count\" : 16 }\n",
    "    { \"_id\" : \"picnic_site\", \"count\" : 11 }\n",
    "    { \"_id\" : \"viewpoint\", \"count\" : 66 }\n"
   ]
  },
  {
   "cell_type": "markdown",
   "metadata": {},
   "source": [
    "## Possible Improvements"
   ]
  },
  {
   "cell_type": "markdown",
   "metadata": {},
   "source": [
    "After exploring and auditing the dataset, one important improvement that can be made to the data is to cleanup the 'opening_hours' tag. As you can see below, the formating of opening_hours is all over the place, and it would be hard to analyze this non-standard data.\n",
    "\n",
    "    > db.vancouverosm.aggregate([{$match: {\"opening_hours\": {\"$exists\": true}}},{\"$project\":{\"opening_hours\":1}},{\"$sample\":{\"size\":10}},{\"$project\":{\"_id\":0}}])\n",
    "    { \"opening_hours\" : \"Mo-fr 7-19;sa 9-18;su 10-18\" }\n",
    "    { \"opening_hours\" : \"24/7\" }\n",
    "    { \"opening_hours\" : \"Mo-Th 11:00-21:00; Fr-Su 11:00-22:00\" }\n",
    "    { \"opening_hours\" : \"Su-Th 10:00-02:00; Fr-Sa 10:00-05:00\" }\n",
    "    { \"opening_hours\" : \"Mo-Su 10:00-23:00\" }\n",
    "    { \"opening_hours\" : \"Mo-Su 07:00-19:00\" }\n",
    "    { \"opening_hours\" : \"M-F 7-7, Sat 10-6, Sun 11-5\" }\n",
    "    { \"opening_hours\" : \"12:00-21:00\" }\n",
    "    { \"opening_hours\" : \"Mo-fr 6-20;sa-su 7-19\" }\n",
    "    { \"opening_hours\" : \"Mo-Fr 11:30-14:30,17:30-24:00; Sa-Su 12:00-15:00,17:30-24:00\" }\n",
    "    \n",
    "But, there would be difficulties while making this improvement. First, in deciding the standard format that is acceptable. Then, to identify all of the non-conforming formats and come up with an algorithm to clean up the data, which in my opinion will be complex and time consuming.\n",
    "\n",
    "If the clean up is successful, then we can ask some interesting questions like - what places are open 24/7 or how late are the bars and restaurants open?\n",
    "\n",
    "Another tag that can be cleaned up is 'addr:city'. As you might have noticed in one of the query results above to answer the question - 'How many different cities were there in this OSM dataset?', this data has not been standardized, and hence is not efficient for performing data analysis without manual interference. Once the abnormalities are identified, we can clean up the data and answer some interesting questions like - how many restaurants are there in these cities?"
   ]
  },
  {
   "cell_type": "markdown",
   "metadata": {},
   "source": [
    "## References not mentioned above:\n",
    "\n",
    "https://docs.python.org/2/library/xml.etree.elementtree.html?highlight=elementtree#module-xml.etree.ElementTree\n",
    "\n",
    "https://docs.mongodb.com/\n",
    "\n",
    "http://www.regexr.com/"
   ]
  }
 ],
 "metadata": {
  "kernelspec": {
   "display_name": "Python [conda env:DAND]",
   "language": "python",
   "name": "conda-env-DAND-py"
  },
  "language_info": {
   "codemirror_mode": {
    "name": "ipython",
    "version": 2
   },
   "file_extension": ".py",
   "mimetype": "text/x-python",
   "name": "python",
   "nbconvert_exporter": "python",
   "pygments_lexer": "ipython2",
   "version": "2.7.12"
  }
 },
 "nbformat": 4,
 "nbformat_minor": 2
}
